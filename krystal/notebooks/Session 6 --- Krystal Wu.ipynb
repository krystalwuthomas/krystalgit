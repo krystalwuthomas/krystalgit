{
 "cells": [
  {
   "cell_type": "markdown",
   "id": "6bb02293",
   "metadata": {},
   "source": [
    "# Comprehension"
   ]
  },
  {
   "cell_type": "code",
   "execution_count": 10,
   "id": "63fa3ddb",
   "metadata": {},
   "outputs": [
    {
     "data": {
      "text/plain": [
       "[0, 2, 4, 6, 8]"
      ]
     },
     "execution_count": 10,
     "metadata": {},
     "output_type": "execute_result"
    }
   ],
   "source": [
    "int_list = range(10)\n",
    "even_list = [num for num in int_list if num%2==0]\n",
    "even_list"
   ]
  },
  {
   "cell_type": "code",
   "execution_count": 11,
   "id": "1db94c31",
   "metadata": {},
   "outputs": [
    {
     "data": {
      "text/plain": [
       "[1, 3, 5, 7, 9]"
      ]
     },
     "execution_count": 11,
     "metadata": {},
     "output_type": "execute_result"
    }
   ],
   "source": [
    "odd_list = [num for num in int_list if num%2==1]\n",
    "odd_list"
   ]
  },
  {
   "cell_type": "code",
   "execution_count": 12,
   "id": "969a32da",
   "metadata": {},
   "outputs": [
    {
     "data": {
      "text/plain": [
       "{0: 0, 1: 1, 2: 4, 3: 9, 4: 16, 5: 25, 6: 36, 7: 49, 8: 64, 9: 81}"
      ]
     },
     "execution_count": 12,
     "metadata": {},
     "output_type": "execute_result"
    }
   ],
   "source": [
    "dict_comprehension = {x:x**2 for x in range(10)}\n",
    "dict_comprehension"
   ]
  },
  {
   "cell_type": "code",
   "execution_count": 18,
   "id": "09c882f9",
   "metadata": {},
   "outputs": [
    {
     "data": {
      "text/plain": [
       "{0: 0, 1: 1, 2: 2, 3: 3, 4: 4, 5: 5, 6: 6, 7: 7, 8: 8, 9: 9}"
      ]
     },
     "execution_count": 18,
     "metadata": {},
     "output_type": "execute_result"
    }
   ],
   "source": [
    "dict_comprehension1 = {x:y for x,y in zip(range(10), range(10))}\n",
    "dict_comprehension1"
   ]
  },
  {
   "cell_type": "markdown",
   "id": "5b96962b",
   "metadata": {},
   "source": [
    "# File Operations"
   ]
  },
  {
   "cell_type": "markdown",
   "id": "0fe9d930",
   "metadata": {},
   "source": [
    "### It can be used to read, write and append data into different type of files"
   ]
  },
  {
   "cell_type": "markdown",
   "id": "4d203195",
   "metadata": {},
   "source": [
    "modes:\n",
    "read()\n",
    "write()\n",
    "append()"
   ]
  },
  {
   "cell_type": "markdown",
   "id": "bc3263eb",
   "metadata": {},
   "source": [
    "### write to a file"
   ]
  },
  {
   "cell_type": "code",
   "execution_count": 19,
   "id": "d39d5c85",
   "metadata": {},
   "outputs": [],
   "source": [
    "fp =open('sample.txt', 'w') # default mode to open a file is read"
   ]
  },
  {
   "cell_type": "code",
   "execution_count": 21,
   "id": "1d4a2f78",
   "metadata": {},
   "outputs": [
    {
     "data": {
      "text/plain": [
       "26"
      ]
     },
     "execution_count": 21,
     "metadata": {},
     "output_type": "execute_result"
    }
   ],
   "source": [
    "fp.write('This is my first text file')"
   ]
  },
  {
   "cell_type": "code",
   "execution_count": 22,
   "id": "0b5cf34f",
   "metadata": {},
   "outputs": [],
   "source": [
    "fp.close()"
   ]
  },
  {
   "cell_type": "code",
   "execution_count": 23,
   "id": "ba4978e5",
   "metadata": {},
   "outputs": [],
   "source": [
    "fp =open('sample.txt', 'r') # r = read "
   ]
  },
  {
   "cell_type": "code",
   "execution_count": 25,
   "id": "c216a562",
   "metadata": {},
   "outputs": [
    {
     "name": "stdout",
     "output_type": "stream",
     "text": [
      "This is my first text file\n"
     ]
    }
   ],
   "source": [
    "lines = fp.read()\n",
    "print(lines)"
   ]
  },
  {
   "cell_type": "markdown",
   "id": "ad509db8",
   "metadata": {},
   "source": [
    "### append to a file"
   ]
  },
  {
   "cell_type": "code",
   "execution_count": 38,
   "id": "7d29312b",
   "metadata": {},
   "outputs": [],
   "source": [
    "fp = open('sample.txt', 'a')   # a = append "
   ]
  },
  {
   "cell_type": "code",
   "execution_count": 39,
   "id": "810795af",
   "metadata": {},
   "outputs": [
    {
     "data": {
      "text/plain": [
       "35"
      ]
     },
     "execution_count": 39,
     "metadata": {},
     "output_type": "execute_result"
    }
   ],
   "source": [
    "fp.write('\\nwriting another line into the file')"
   ]
  },
  {
   "cell_type": "code",
   "execution_count": 40,
   "id": "94c22775",
   "metadata": {},
   "outputs": [],
   "source": [
    "fp.close()"
   ]
  },
  {
   "cell_type": "code",
   "execution_count": 41,
   "id": "7014b6c9",
   "metadata": {},
   "outputs": [],
   "source": [
    "fp = open('sample.txt', 'r')"
   ]
  },
  {
   "cell_type": "code",
   "execution_count": 42,
   "id": "50533e52",
   "metadata": {},
   "outputs": [
    {
     "name": "stdout",
     "output_type": "stream",
     "text": [
      "This is my first text filewriting another line into the file\n",
      "\n",
      "writing another line into the file\n"
     ]
    }
   ],
   "source": [
    "for line in fp.readlines():\n",
    "    print(line)"
   ]
  },
  {
   "cell_type": "markdown",
   "id": "f211ee49",
   "metadata": {},
   "source": [
    "## Open file using 'with statement'"
   ]
  },
  {
   "cell_type": "code",
   "execution_count": 105,
   "id": "27144813",
   "metadata": {},
   "outputs": [
    {
     "name": "stdout",
     "output_type": "stream",
     "text": [
      "This is my first text filewriting another line into the file\n",
      "\n",
      "writing another line into the file\n"
     ]
    }
   ],
   "source": [
    "with open('sample.txt') as file:\n",
    "    for line in file.readlines():\n",
    "        print(line)"
   ]
  },
  {
   "cell_type": "code",
   "execution_count": null,
   "id": "b970d7aa",
   "metadata": {},
   "outputs": [],
   "source": []
  },
  {
   "cell_type": "markdown",
   "id": "28458d76",
   "metadata": {},
   "source": [
    "# Lambda Functions"
   ]
  },
  {
   "cell_type": "markdown",
   "id": "eaae147b",
   "metadata": {},
   "source": [
    "Lambda is an anonymous function which can take input parameters and perform operations to provide the results."
   ]
  },
  {
   "cell_type": "code",
   "execution_count": 46,
   "id": "5aa09d7b",
   "metadata": {},
   "outputs": [],
   "source": [
    "x = lambda num1,num2: num1 + num2"
   ]
  },
  {
   "cell_type": "code",
   "execution_count": 47,
   "id": "5251764b",
   "metadata": {},
   "outputs": [
    {
     "data": {
      "text/plain": [
       "14"
      ]
     },
     "execution_count": 47,
     "metadata": {},
     "output_type": "execute_result"
    }
   ],
   "source": [
    "x(4,10)"
   ]
  },
  {
   "cell_type": "code",
   "execution_count": null,
   "id": "bf6fba76",
   "metadata": {},
   "outputs": [],
   "source": []
  },
  {
   "cell_type": "markdown",
   "id": "38f86789",
   "metadata": {},
   "source": [
    "# Filter, Map and Reduce"
   ]
  },
  {
   "cell_type": "markdown",
   "id": "8cdb5eb0",
   "metadata": {},
   "source": [
    "## Filter"
   ]
  },
  {
   "cell_type": "code",
   "execution_count": 106,
   "id": "7a6379cd",
   "metadata": {},
   "outputs": [],
   "source": [
    "even_nums = list(filter(lambda x:x>2, range(10)))"
   ]
  },
  {
   "cell_type": "code",
   "execution_count": 107,
   "id": "eff1e91e",
   "metadata": {},
   "outputs": [
    {
     "data": {
      "text/plain": [
       "[3, 4, 5, 6, 7, 8, 9]"
      ]
     },
     "execution_count": 107,
     "metadata": {},
     "output_type": "execute_result"
    }
   ],
   "source": [
    "even_nums"
   ]
  },
  {
   "cell_type": "code",
   "execution_count": 108,
   "id": "75716375",
   "metadata": {},
   "outputs": [
    {
     "data": {
      "text/plain": [
       "[0, 2, 4, 6, 8]"
      ]
     },
     "execution_count": 108,
     "metadata": {},
     "output_type": "execute_result"
    }
   ],
   "source": [
    "even_nums = list(filter(lambda x:x%2==0, range(10)))\n",
    "even_nums"
   ]
  },
  {
   "cell_type": "markdown",
   "id": "fe853e85",
   "metadata": {},
   "source": [
    "## Map"
   ]
  },
  {
   "cell_type": "code",
   "execution_count": 52,
   "id": "3f4d0020",
   "metadata": {},
   "outputs": [],
   "source": [
    "int_list = [1,2,3,4,5]"
   ]
  },
  {
   "cell_type": "code",
   "execution_count": 57,
   "id": "be715098",
   "metadata": {},
   "outputs": [],
   "source": [
    "squares = map(lambda x:x**2, int_list)"
   ]
  },
  {
   "cell_type": "code",
   "execution_count": 58,
   "id": "e58dc20c",
   "metadata": {},
   "outputs": [
    {
     "data": {
      "text/plain": [
       "<map at 0x15efdc45be0>"
      ]
     },
     "execution_count": 58,
     "metadata": {},
     "output_type": "execute_result"
    }
   ],
   "source": [
    "squares"
   ]
  },
  {
   "cell_type": "code",
   "execution_count": 59,
   "id": "453afc04",
   "metadata": {},
   "outputs": [
    {
     "name": "stdout",
     "output_type": "stream",
     "text": [
      "1\n",
      "4\n",
      "9\n",
      "16\n",
      "25\n"
     ]
    }
   ],
   "source": [
    "for i in squares:\n",
    "    print(i)"
   ]
  },
  {
   "cell_type": "markdown",
   "id": "754d85cc",
   "metadata": {},
   "source": [
    "## Reduce"
   ]
  },
  {
   "cell_type": "code",
   "execution_count": 60,
   "id": "5f99ea21",
   "metadata": {},
   "outputs": [],
   "source": [
    "from functools import reduce"
   ]
  },
  {
   "cell_type": "code",
   "execution_count": 61,
   "id": "5f0c03da",
   "metadata": {},
   "outputs": [],
   "source": [
    "total = reduce(lambda x,y: x+y, [1,3,5,10])   # reduce can operate all of the values that we have"
   ]
  },
  {
   "cell_type": "code",
   "execution_count": 62,
   "id": "28cab362",
   "metadata": {},
   "outputs": [
    {
     "data": {
      "text/plain": [
       "19"
      ]
     },
     "execution_count": 62,
     "metadata": {},
     "output_type": "execute_result"
    }
   ],
   "source": [
    "total"
   ]
  },
  {
   "cell_type": "code",
   "execution_count": 63,
   "id": "d3b64cf2",
   "metadata": {},
   "outputs": [],
   "source": [
    "product = reduce(lambda x,y: x*y, [1,3,5,10])   # reduce can operate all of the values that we have"
   ]
  },
  {
   "cell_type": "code",
   "execution_count": 64,
   "id": "541a37b1",
   "metadata": {},
   "outputs": [
    {
     "data": {
      "text/plain": [
       "150"
      ]
     },
     "execution_count": 64,
     "metadata": {},
     "output_type": "execute_result"
    }
   ],
   "source": [
    "product"
   ]
  },
  {
   "cell_type": "code",
   "execution_count": null,
   "id": "fd1bc524",
   "metadata": {},
   "outputs": [],
   "source": []
  },
  {
   "cell_type": "markdown",
   "id": "6b2a3071",
   "metadata": {},
   "source": [
    "# split and join functions"
   ]
  },
  {
   "cell_type": "code",
   "execution_count": 65,
   "id": "9a0aa6e8",
   "metadata": {},
   "outputs": [],
   "source": [
    "sentence = 'Get all the even numbers from a list using lambda functions'"
   ]
  },
  {
   "cell_type": "code",
   "execution_count": 66,
   "id": "70f89e14",
   "metadata": {},
   "outputs": [],
   "source": [
    "words = sentence.split()"
   ]
  },
  {
   "cell_type": "code",
   "execution_count": 67,
   "id": "85ebef3d",
   "metadata": {},
   "outputs": [
    {
     "data": {
      "text/plain": [
       "['Get',\n",
       " 'all',\n",
       " 'the',\n",
       " 'even',\n",
       " 'numbers',\n",
       " 'from',\n",
       " 'a',\n",
       " 'list',\n",
       " 'using',\n",
       " 'lambda',\n",
       " 'functions']"
      ]
     },
     "execution_count": 67,
     "metadata": {},
     "output_type": "execute_result"
    }
   ],
   "source": [
    "words"
   ]
  },
  {
   "cell_type": "code",
   "execution_count": 68,
   "id": "df703b0c",
   "metadata": {},
   "outputs": [],
   "source": [
    "sentence1 = \" \".join(words)"
   ]
  },
  {
   "cell_type": "code",
   "execution_count": 69,
   "id": "2cc1ea02",
   "metadata": {},
   "outputs": [
    {
     "data": {
      "text/plain": [
       "'Get all the even numbers from a list using lambda functions'"
      ]
     },
     "execution_count": 69,
     "metadata": {},
     "output_type": "execute_result"
    }
   ],
   "source": [
    "sentence1"
   ]
  },
  {
   "cell_type": "markdown",
   "id": "1d0734f8",
   "metadata": {},
   "source": [
    "# Iterator, Generator, Decorator"
   ]
  },
  {
   "cell_type": "markdown",
   "id": "1efa76ea",
   "metadata": {},
   "source": [
    "## Iterator"
   ]
  },
  {
   "cell_type": "code",
   "execution_count": 70,
   "id": "eb7838fe",
   "metadata": {},
   "outputs": [],
   "source": [
    "num_list = [1,2,3,4,6,7]"
   ]
  },
  {
   "cell_type": "code",
   "execution_count": 71,
   "id": "b764aa8c",
   "metadata": {},
   "outputs": [],
   "source": [
    "iterator = iter(num_list)"
   ]
  },
  {
   "cell_type": "code",
   "execution_count": 72,
   "id": "8810ad66",
   "metadata": {},
   "outputs": [
    {
     "data": {
      "text/plain": [
       "1"
      ]
     },
     "execution_count": 72,
     "metadata": {},
     "output_type": "execute_result"
    }
   ],
   "source": [
    "next(iterator)    # use next() function to get access every next value"
   ]
  },
  {
   "cell_type": "code",
   "execution_count": 73,
   "id": "84a59c5a",
   "metadata": {},
   "outputs": [
    {
     "data": {
      "text/plain": [
       "2"
      ]
     },
     "execution_count": 73,
     "metadata": {},
     "output_type": "execute_result"
    }
   ],
   "source": [
    "next(iterator)"
   ]
  },
  {
   "cell_type": "code",
   "execution_count": 74,
   "id": "5a1beaa5",
   "metadata": {},
   "outputs": [
    {
     "data": {
      "text/plain": [
       "3"
      ]
     },
     "execution_count": 74,
     "metadata": {},
     "output_type": "execute_result"
    }
   ],
   "source": [
    "next(iterator)"
   ]
  },
  {
   "cell_type": "code",
   "execution_count": 75,
   "id": "84067737",
   "metadata": {},
   "outputs": [
    {
     "data": {
      "text/plain": [
       "4"
      ]
     },
     "execution_count": 75,
     "metadata": {},
     "output_type": "execute_result"
    }
   ],
   "source": [
    "next(iterator)"
   ]
  },
  {
   "cell_type": "markdown",
   "id": "62e90989",
   "metadata": {},
   "source": [
    "## Generator"
   ]
  },
  {
   "cell_type": "code",
   "execution_count": 86,
   "id": "25109077",
   "metadata": {},
   "outputs": [],
   "source": [
    "def numeric_generator():\n",
    "    for x in range(3):\n",
    "        yield x"
   ]
  },
  {
   "cell_type": "code",
   "execution_count": 87,
   "id": "e9eeaf2a",
   "metadata": {},
   "outputs": [],
   "source": [
    "obj = numeric_generator()"
   ]
  },
  {
   "cell_type": "code",
   "execution_count": 88,
   "id": "eab88359",
   "metadata": {},
   "outputs": [
    {
     "data": {
      "text/plain": [
       "<generator object numeric_generator at 0x0000015EFDD4AEB0>"
      ]
     },
     "execution_count": 88,
     "metadata": {},
     "output_type": "execute_result"
    }
   ],
   "source": [
    "obj"
   ]
  },
  {
   "cell_type": "code",
   "execution_count": 89,
   "id": "8078ccdc",
   "metadata": {},
   "outputs": [
    {
     "data": {
      "text/plain": [
       "0"
      ]
     },
     "execution_count": 89,
     "metadata": {},
     "output_type": "execute_result"
    }
   ],
   "source": [
    "obj.__next__()"
   ]
  },
  {
   "cell_type": "code",
   "execution_count": 90,
   "id": "529f8d33",
   "metadata": {},
   "outputs": [
    {
     "data": {
      "text/plain": [
       "1"
      ]
     },
     "execution_count": 90,
     "metadata": {},
     "output_type": "execute_result"
    }
   ],
   "source": [
    "obj.__next__()"
   ]
  },
  {
   "cell_type": "code",
   "execution_count": 91,
   "id": "186122f1",
   "metadata": {},
   "outputs": [
    {
     "data": {
      "text/plain": [
       "2"
      ]
     },
     "execution_count": 91,
     "metadata": {},
     "output_type": "execute_result"
    }
   ],
   "source": [
    "obj.__next__()"
   ]
  },
  {
   "cell_type": "code",
   "execution_count": 92,
   "id": "bfa68e2f",
   "metadata": {},
   "outputs": [
    {
     "ename": "StopIteration",
     "evalue": "",
     "output_type": "error",
     "traceback": [
      "\u001b[1;31m---------------------------------------------------------------------------\u001b[0m",
      "\u001b[1;31mStopIteration\u001b[0m                             Traceback (most recent call last)",
      "\u001b[1;32m<ipython-input-92-fb1646cc9850>\u001b[0m in \u001b[0;36m<module>\u001b[1;34m\u001b[0m\n\u001b[1;32m----> 1\u001b[1;33m \u001b[0mobj\u001b[0m\u001b[1;33m.\u001b[0m\u001b[0m__next__\u001b[0m\u001b[1;33m(\u001b[0m\u001b[1;33m)\u001b[0m\u001b[1;33m\u001b[0m\u001b[1;33m\u001b[0m\u001b[0m\n\u001b[0m",
      "\u001b[1;31mStopIteration\u001b[0m: "
     ]
    }
   ],
   "source": [
    "obj.__next__()    #因为已经完成，所以没有next"
   ]
  },
  {
   "cell_type": "markdown",
   "id": "836652f9",
   "metadata": {},
   "source": [
    "## Decorator"
   ]
  },
  {
   "cell_type": "code",
   "execution_count": 98,
   "id": "15f714ea",
   "metadata": {},
   "outputs": [],
   "source": [
    "def integers(n):\n",
    "    count = 0\n",
    "    while count <= n:\n",
    "        print(count)\n",
    "        count += 1"
   ]
  },
  {
   "cell_type": "code",
   "execution_count": 100,
   "id": "21748114",
   "metadata": {},
   "outputs": [
    {
     "name": "stdout",
     "output_type": "stream",
     "text": [
      "0\n",
      "1\n",
      "2\n",
      "3\n",
      "4\n"
     ]
    }
   ],
   "source": [
    "integers(4)"
   ]
  },
  {
   "cell_type": "markdown",
   "id": "1413887c",
   "metadata": {},
   "source": [
    "# Function\n",
    "-- anything followed by () are functions in python.\n",
    "-- function should return something."
   ]
  },
  {
   "cell_type": "code",
   "execution_count": null,
   "id": "c8e5d113",
   "metadata": {},
   "outputs": [],
   "source": []
  },
  {
   "cell_type": "code",
   "execution_count": null,
   "id": "c6161d52",
   "metadata": {},
   "outputs": [],
   "source": []
  },
  {
   "cell_type": "code",
   "execution_count": null,
   "id": "00524494",
   "metadata": {},
   "outputs": [],
   "source": [
    "# Assignment: \n",
    "# Get all the even numbers from a list using lambda functions \n",
    "# Get multiple of 3 inside a list using lambda functions \n",
    "# Filter multiples of  2 from a given list using lambda\n",
    "# Open a file and write all the details of employee like first_name, second_name, last_name, address, etc\n",
    "# Read a file and find the most occurred word —--- very important\n"
   ]
  },
  {
   "cell_type": "code",
   "execution_count": null,
   "id": "0a984793",
   "metadata": {},
   "outputs": [],
   "source": [
    "# Tomorrow:\n",
    "1. decorator\n",
    "2. exception handling\n",
    "3. regular expression\n",
    "4. OOPS concept"
   ]
  }
 ],
 "metadata": {
  "kernelspec": {
   "display_name": "Python 3",
   "language": "python",
   "name": "python3"
  },
  "language_info": {
   "codemirror_mode": {
    "name": "ipython",
    "version": 3
   },
   "file_extension": ".py",
   "mimetype": "text/x-python",
   "name": "python",
   "nbconvert_exporter": "python",
   "pygments_lexer": "ipython3",
   "version": "3.8.8"
  }
 },
 "nbformat": 4,
 "nbformat_minor": 5
}

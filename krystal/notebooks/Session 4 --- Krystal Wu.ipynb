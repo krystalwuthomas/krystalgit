{
 "cells": [
  {
   "cell_type": "markdown",
   "id": "8ffea9c3",
   "metadata": {},
   "source": [
    "## Python Basics"
   ]
  },
  {
   "cell_type": "code",
   "execution_count": 5,
   "id": "ee765505",
   "metadata": {},
   "outputs": [
    {
     "name": "stdout",
     "output_type": "stream",
     "text": [
      "['krystal', 'thomas']\n"
     ]
    }
   ],
   "source": [
    "full_name = 'krystal thomas'\n",
    "seperate_name = full_name.split()\n",
    "print(seperate_name)"
   ]
  },
  {
   "cell_type": "code",
   "execution_count": 6,
   "id": "65d76c6b",
   "metadata": {},
   "outputs": [
    {
     "name": "stdout",
     "output_type": "stream",
     "text": [
      "krystalthomas\n"
     ]
    }
   ],
   "source": [
    "first_name = 'krystal'\n",
    "last_name = 'thomas'\n",
    "print(first_name + last_name)"
   ]
  },
  {
   "cell_type": "code",
   "execution_count": 7,
   "id": "57b14ea8",
   "metadata": {},
   "outputs": [
    {
     "name": "stdout",
     "output_type": "stream",
     "text": [
      "krystal thomas\n"
     ]
    }
   ],
   "source": [
    "print(first_name + ' ' + last_name)"
   ]
  },
  {
   "cell_type": "code",
   "execution_count": 9,
   "id": "46430b19",
   "metadata": {},
   "outputs": [
    {
     "name": "stdout",
     "output_type": "stream",
     "text": [
      "Krystal Thomas\n"
     ]
    }
   ],
   "source": [
    "print(first_name.capitalize() + ' ' + last_name.capitalize())"
   ]
  },
  {
   "cell_type": "code",
   "execution_count": 10,
   "id": "c230a58d",
   "metadata": {},
   "outputs": [
    {
     "data": {
      "text/plain": [
       "int"
      ]
     },
     "execution_count": 10,
     "metadata": {},
     "output_type": "execute_result"
    }
   ],
   "source": [
    "age = 20\n",
    "type(age)"
   ]
  },
  {
   "cell_type": "code",
   "execution_count": 11,
   "id": "37204ad9",
   "metadata": {},
   "outputs": [
    {
     "data": {
      "text/plain": [
       "float"
      ]
     },
     "execution_count": 11,
     "metadata": {},
     "output_type": "execute_result"
    }
   ],
   "source": [
    "height = 5.2\n",
    "type(height)"
   ]
  },
  {
   "cell_type": "code",
   "execution_count": 12,
   "id": "f73e2056",
   "metadata": {},
   "outputs": [
    {
     "data": {
      "text/plain": [
       "bool"
      ]
     },
     "execution_count": 12,
     "metadata": {},
     "output_type": "execute_result"
    }
   ],
   "source": [
    "raining = True\n",
    "type(raining)"
   ]
  },
  {
   "cell_type": "code",
   "execution_count": 13,
   "id": "bd139556",
   "metadata": {},
   "outputs": [
    {
     "data": {
      "text/plain": [
       "list"
      ]
     },
     "execution_count": 13,
     "metadata": {},
     "output_type": "execute_result"
    }
   ],
   "source": [
    "students = ['xiang', 'allen', 'yuqi']\n",
    "type(students)"
   ]
  },
  {
   "cell_type": "code",
   "execution_count": 15,
   "id": "a4e840d0",
   "metadata": {},
   "outputs": [
    {
     "data": {
      "text/plain": [
       "tuple"
      ]
     },
     "execution_count": 15,
     "metadata": {},
     "output_type": "execute_result"
    }
   ],
   "source": [
    "students1 = ('xiang', 'allen', 'yuqi')\n",
    "type(students1)"
   ]
  },
  {
   "cell_type": "code",
   "execution_count": 18,
   "id": "085624b3",
   "metadata": {
    "scrolled": true
   },
   "outputs": [
    {
     "data": {
      "text/plain": [
       "dict"
      ]
     },
     "execution_count": 18,
     "metadata": {},
     "output_type": "execute_result"
    }
   ],
   "source": [
    "student_details = {'name':'krystal', 'age':30, 'city':'Dallas'}\n",
    "type(student_details)"
   ]
  },
  {
   "cell_type": "markdown",
   "id": "07c6b9cb",
   "metadata": {},
   "source": [
    "### Logical Operators"
   ]
  },
  {
   "cell_type": "code",
   "execution_count": 19,
   "id": "b59f72ea",
   "metadata": {},
   "outputs": [
    {
     "data": {
      "text/plain": [
       "True"
      ]
     },
     "execution_count": 19,
     "metadata": {},
     "output_type": "execute_result"
    }
   ],
   "source": [
    "True and True"
   ]
  },
  {
   "cell_type": "code",
   "execution_count": 20,
   "id": "6ce0b7ab",
   "metadata": {},
   "outputs": [
    {
     "data": {
      "text/plain": [
       "False"
      ]
     },
     "execution_count": 20,
     "metadata": {},
     "output_type": "execute_result"
    }
   ],
   "source": [
    "True and False"
   ]
  },
  {
   "cell_type": "code",
   "execution_count": 21,
   "id": "57cfff0d",
   "metadata": {},
   "outputs": [
    {
     "data": {
      "text/plain": [
       "False"
      ]
     },
     "execution_count": 21,
     "metadata": {},
     "output_type": "execute_result"
    }
   ],
   "source": [
    "False and False"
   ]
  },
  {
   "cell_type": "code",
   "execution_count": 22,
   "id": "a19625b6",
   "metadata": {},
   "outputs": [
    {
     "data": {
      "text/plain": [
       "False"
      ]
     },
     "execution_count": 22,
     "metadata": {},
     "output_type": "execute_result"
    }
   ],
   "source": [
    "False or False"
   ]
  },
  {
   "cell_type": "code",
   "execution_count": 23,
   "id": "c0c13fc9",
   "metadata": {},
   "outputs": [
    {
     "data": {
      "text/plain": [
       "True"
      ]
     },
     "execution_count": 23,
     "metadata": {},
     "output_type": "execute_result"
    }
   ],
   "source": [
    "True or False"
   ]
  },
  {
   "cell_type": "code",
   "execution_count": 24,
   "id": "cf2c140e",
   "metadata": {},
   "outputs": [
    {
     "data": {
      "text/plain": [
       "True"
      ]
     },
     "execution_count": 24,
     "metadata": {},
     "output_type": "execute_result"
    }
   ],
   "source": [
    "1 == 1"
   ]
  },
  {
   "cell_type": "code",
   "execution_count": 25,
   "id": "9f1e7ca2",
   "metadata": {},
   "outputs": [
    {
     "data": {
      "text/plain": [
       "False"
      ]
     },
     "execution_count": 25,
     "metadata": {},
     "output_type": "execute_result"
    }
   ],
   "source": [
    "10 == 20"
   ]
  },
  {
   "cell_type": "code",
   "execution_count": 26,
   "id": "0036606a",
   "metadata": {},
   "outputs": [
    {
     "data": {
      "text/plain": [
       "False"
      ]
     },
     "execution_count": 26,
     "metadata": {},
     "output_type": "execute_result"
    }
   ],
   "source": [
    "1 > 5"
   ]
  },
  {
   "cell_type": "code",
   "execution_count": 27,
   "id": "435c3e72",
   "metadata": {},
   "outputs": [
    {
     "data": {
      "text/plain": [
       "True"
      ]
     },
     "execution_count": 27,
     "metadata": {},
     "output_type": "execute_result"
    }
   ],
   "source": [
    "1 <= 6"
   ]
  },
  {
   "cell_type": "code",
   "execution_count": 28,
   "id": "cf7b9431",
   "metadata": {},
   "outputs": [
    {
     "data": {
      "text/plain": [
       "True"
      ]
     },
     "execution_count": 28,
     "metadata": {},
     "output_type": "execute_result"
    }
   ],
   "source": [
    "1 <= 1.0"
   ]
  },
  {
   "cell_type": "code",
   "execution_count": 29,
   "id": "60d4e25a",
   "metadata": {},
   "outputs": [
    {
     "data": {
      "text/plain": [
       "True"
      ]
     },
     "execution_count": 29,
     "metadata": {},
     "output_type": "execute_result"
    }
   ],
   "source": [
    "True is True"
   ]
  },
  {
   "cell_type": "code",
   "execution_count": 31,
   "id": "1c2a600c",
   "metadata": {},
   "outputs": [
    {
     "data": {
      "text/plain": [
       "True"
      ]
     },
     "execution_count": 31,
     "metadata": {},
     "output_type": "execute_result"
    }
   ],
   "source": [
    "True is not False"
   ]
  },
  {
   "cell_type": "markdown",
   "id": "03e7493a",
   "metadata": {},
   "source": [
    "### Conditionals"
   ]
  },
  {
   "cell_type": "code",
   "execution_count": 36,
   "id": "2b0ccc91",
   "metadata": {},
   "outputs": [],
   "source": [
    "import pandas"
   ]
  },
  {
   "cell_type": "code",
   "execution_count": 37,
   "id": "9ed4e900",
   "metadata": {},
   "outputs": [
    {
     "name": "stdout",
     "output_type": "stream",
     "text": [
      "Hello World\n"
     ]
    }
   ],
   "source": [
    "print('Hello World')"
   ]
  },
  {
   "cell_type": "code",
   "execution_count": 49,
   "id": "f8229b33",
   "metadata": {},
   "outputs": [
    {
     "data": {
      "text/plain": [
       "1.0"
      ]
     },
     "execution_count": 49,
     "metadata": {},
     "output_type": "execute_result"
    }
   ],
   "source": [
    "2/2  # Division"
   ]
  },
  {
   "cell_type": "code",
   "execution_count": 6,
   "id": "92ebccb9",
   "metadata": {},
   "outputs": [
    {
     "data": {
      "text/plain": [
       "6"
      ]
     },
     "execution_count": 6,
     "metadata": {},
     "output_type": "execute_result"
    }
   ],
   "source": [
    "19//3  # Floor Division（商） -- Divides and returns the integer value of the quotient. It dumps the digits after the decimal."
   ]
  },
  {
   "cell_type": "code",
   "execution_count": 59,
   "id": "128d39d7",
   "metadata": {},
   "outputs": [
    {
     "data": {
      "text/plain": [
       "2"
      ]
     },
     "execution_count": 59,
     "metadata": {},
     "output_type": "execute_result"
    }
   ],
   "source": [
    "12%5 # Modulus模除(余数）。Divides and returns the value of the remainder."
   ]
  },
  {
   "cell_type": "markdown",
   "id": "cca9659a",
   "metadata": {},
   "source": [
    "#### Types: if, if else, multiple if, elif"
   ]
  },
  {
   "cell_type": "code",
   "execution_count": 43,
   "id": "df889390",
   "metadata": {},
   "outputs": [
    {
     "name": "stdout",
     "output_type": "stream",
     "text": [
      "This is an even number\n"
     ]
    }
   ],
   "source": [
    "number = 12\n",
    "if number%2 == 0:\n",
    "    print('This is an even number')\n",
    "else:\n",
    "    print('This is an odd number')"
   ]
  },
  {
   "cell_type": "code",
   "execution_count": 48,
   "id": "a0b8447e",
   "metadata": {},
   "outputs": [
    {
     "name": "stdout",
     "output_type": "stream",
     "text": [
      "This is an odd number\n"
     ]
    }
   ],
   "source": [
    "number = 15\n",
    "if number%2 == 0:\n",
    "    print('This is an even number')\n",
    "elif number%2 == 1:\n",
    "    print('This is an odd number')\n",
    "elif number%3 == 0:\n",
    "    print('This is a multiple of 3 number')\n",
    "else:\n",
    "    print('Invalid number')   # assign number to a float number like 15.8, it'll be invalid number"
   ]
  },
  {
   "cell_type": "code",
   "execution_count": 3,
   "id": "f60f124a",
   "metadata": {},
   "outputs": [
    {
     "name": "stdout",
     "output_type": "stream",
     "text": [
      "This is an even number\n",
      "This is a multiple of 3 number\n"
     ]
    }
   ],
   "source": [
    "# multiple if: check every conditions one by one\n",
    "number = 18\n",
    "if number%2 == 0:\n",
    "    print('This is an even number')\n",
    "if number%2 == 1:\n",
    "    print('This is an odd number')\n",
    "if number%3 == 0:\n",
    "    print('This is a multiple of 3 number')"
   ]
  },
  {
   "cell_type": "markdown",
   "id": "a6e8c66f",
   "metadata": {},
   "source": [
    "### note: Python executes from top to bottom, left to right. So the above just says 'This is an odd number'"
   ]
  },
  {
   "cell_type": "markdown",
   "id": "af71991f",
   "metadata": {},
   "source": [
    "## Looping -- for loop, while loop"
   ]
  },
  {
   "cell_type": "code",
   "execution_count": 7,
   "id": "bbb6d941",
   "metadata": {},
   "outputs": [
    {
     "name": "stdout",
     "output_type": "stream",
     "text": [
      "D\n",
      "a\n",
      "l\n",
      "l\n",
      "a\n",
      "s\n"
     ]
    }
   ],
   "source": [
    "for char in 'Dallas':\n",
    "    print(char)"
   ]
  },
  {
   "cell_type": "code",
   "execution_count": 8,
   "id": "f0b5b8cc",
   "metadata": {},
   "outputs": [
    {
     "name": "stdout",
     "output_type": "stream",
     "text": [
      "0\n",
      "1\n",
      "2\n",
      "3\n",
      "4\n",
      "5\n",
      "6\n",
      "7\n",
      "8\n",
      "9\n",
      "10\n"
     ]
    }
   ],
   "source": [
    "for i in range(0,11):\n",
    "    print(i)"
   ]
  },
  {
   "cell_type": "code",
   "execution_count": 12,
   "id": "757ad0b6",
   "metadata": {},
   "outputs": [
    {
     "name": "stdout",
     "output_type": "stream",
     "text": [
      "i is even\n",
      "i is odd\n",
      "i is even\n",
      "i is odd\n",
      "i is even\n",
      "i is odd\n",
      "i is even\n",
      "i is odd\n",
      "i is even\n",
      "i is odd\n",
      "i is even\n"
     ]
    }
   ],
   "source": [
    "for i in range(0,11):\n",
    "    if i%2 == 0:\n",
    "        print('i is even')\n",
    "    elif i%2 == 1:\n",
    "        print('i is odd')"
   ]
  },
  {
   "cell_type": "code",
   "execution_count": 16,
   "id": "0b18d549",
   "metadata": {},
   "outputs": [
    {
     "name": "stdout",
     "output_type": "stream",
     "text": [
      "i 0 is even\n",
      "i 1 is odd\n",
      "i 2 is even\n",
      "i 3 is odd\n",
      "i 4 is even\n",
      "i 5 is odd\n",
      "i 6 is even\n",
      "i 7 is odd\n",
      "i 8 is even\n",
      "i 9 is odd\n",
      "i 10 is even\n"
     ]
    }
   ],
   "source": [
    "for i in range(0,11):\n",
    "    if i%2 == 0:\n",
    "        print('i {} is even'.format(i))   # string formatting\n",
    "    elif i%2 == 1:\n",
    "        print('i {} is odd'.format(i))"
   ]
  },
  {
   "cell_type": "code",
   "execution_count": 1,
   "id": "4213f70d",
   "metadata": {},
   "outputs": [
    {
     "name": "stdout",
     "output_type": "stream",
     "text": [
      "1\n",
      "2\n",
      "3\n",
      "4\n",
      "5\n",
      "6\n"
     ]
    }
   ],
   "source": [
    "num = 1\n",
    "while num <= 6:\n",
    "    print(num)\n",
    "    num += 1"
   ]
  },
  {
   "cell_type": "markdown",
   "id": "205ac8d3",
   "metadata": {},
   "source": [
    "## Data Strutures --- list, tuple, dictionary, set"
   ]
  },
  {
   "cell_type": "markdown",
   "id": "1130a276",
   "metadata": {},
   "source": [
    "## List"
   ]
  },
  {
   "cell_type": "code",
   "execution_count": 7,
   "id": "d57dd387",
   "metadata": {},
   "outputs": [],
   "source": [
    "# list is ordered and changeable collections of heterogeneous异质的 elements of different types.\n",
    "# It has indexting (postive and negative)\n",
    "cities = ['bangalore', 'hyderabad', 'newyork', 'shangai', 'dhubhai']"
   ]
  },
  {
   "cell_type": "code",
   "execution_count": 8,
   "id": "631802b3",
   "metadata": {},
   "outputs": [
    {
     "data": {
      "text/plain": [
       "list"
      ]
     },
     "execution_count": 8,
     "metadata": {},
     "output_type": "execute_result"
    }
   ],
   "source": [
    "type(cities)"
   ]
  },
  {
   "cell_type": "code",
   "execution_count": 9,
   "id": "64b6f011",
   "metadata": {},
   "outputs": [
    {
     "data": {
      "text/plain": [
       "'bangalore'"
      ]
     },
     "execution_count": 9,
     "metadata": {},
     "output_type": "execute_result"
    }
   ],
   "source": [
    "cities[0]"
   ]
  },
  {
   "cell_type": "code",
   "execution_count": 10,
   "id": "83c47535",
   "metadata": {},
   "outputs": [
    {
     "data": {
      "text/plain": [
       "'dhubhai'"
      ]
     },
     "execution_count": 10,
     "metadata": {},
     "output_type": "execute_result"
    }
   ],
   "source": [
    "cities[-1]"
   ]
  },
  {
   "cell_type": "code",
   "execution_count": 11,
   "id": "d4ca9b5b",
   "metadata": {},
   "outputs": [
    {
     "data": {
      "text/plain": [
       "5"
      ]
     },
     "execution_count": 11,
     "metadata": {},
     "output_type": "execute_result"
    }
   ],
   "source": [
    "len(cities)"
   ]
  },
  {
   "cell_type": "code",
   "execution_count": null,
   "id": "f2d5088b",
   "metadata": {},
   "outputs": [],
   "source": [
    "# Assignment 1: Find the count of elements inside a list without using len() funciton.\n",
    "# Assignment 2: Convert each element to uppercase in a list.\n",
    "# Assignment 3: Convert each element to lowercase in a list.\n",
    "# Assignment 4: Convert each element to camelcase in a list.\n",
    "# Assignment 5: Find the prime numbers from 1 to 100.\n",
    "# Assignment 6: Find the elements starting with 'b' in a list.\n",
    "# Assignment 7: Find the elements starting with 'i' in a list.\n",
    "# Assignment 8: Print alternate values from a list.\n",
    "# Assignment 9: Reverse the string"
   ]
  },
  {
   "cell_type": "code",
   "execution_count": 16,
   "id": "e70a9843",
   "metadata": {},
   "outputs": [
    {
     "data": {
      "text/plain": [
       "['hyderabad', 'newyork']"
      ]
     },
     "execution_count": 16,
     "metadata": {},
     "output_type": "execute_result"
    }
   ],
   "source": [
    "cities[1:3]   # right index is excluded"
   ]
  },
  {
   "cell_type": "code",
   "execution_count": 23,
   "id": "f81c81fd",
   "metadata": {},
   "outputs": [
    {
     "data": {
      "text/plain": [
       "['bangalore', 'newyork', 'dhubhai']"
      ]
     },
     "execution_count": 23,
     "metadata": {},
     "output_type": "execute_result"
    }
   ],
   "source": [
    "cities = ['bangalore', 'hyderabad', 'newyork', 'shangai', 'dhubhai']\n",
    "cities[::2]"
   ]
  },
  {
   "cell_type": "code",
   "execution_count": 32,
   "id": "01935377",
   "metadata": {},
   "outputs": [
    {
     "data": {
      "text/plain": [
       "2"
      ]
     },
     "execution_count": 32,
     "metadata": {},
     "output_type": "execute_result"
    }
   ],
   "source": [
    "cities.index('newyork')"
   ]
  },
  {
   "cell_type": "code",
   "execution_count": 34,
   "id": "8f2a0a44",
   "metadata": {},
   "outputs": [],
   "source": [
    "cities1 = ['Chicago', 'Beijing', 'Berlin']\n",
    "cities.extend(cities1)   # 加一个element用append，加一个list的elements用extend"
   ]
  },
  {
   "cell_type": "code",
   "execution_count": 35,
   "id": "aa11db5b",
   "metadata": {},
   "outputs": [
    {
     "data": {
      "text/plain": [
       "['bangalore',\n",
       " 'hyderabad',\n",
       " 'newyork',\n",
       " 'shangai',\n",
       " 'dhubhai',\n",
       " 'dallas',\n",
       " 'dallas',\n",
       " 'dallas',\n",
       " 'austin',\n",
       " 'Chicago',\n",
       " 'Beijing',\n",
       " 'Berlin']"
      ]
     },
     "execution_count": 35,
     "metadata": {},
     "output_type": "execute_result"
    }
   ],
   "source": [
    "cities"
   ]
  },
  {
   "cell_type": "code",
   "execution_count": 36,
   "id": "b50a74b7",
   "metadata": {},
   "outputs": [],
   "source": [
    "cities.append('London')  # if you append a list, it's gonna append the list as a single element. but if you extend a list, it's gonna give you each of the elements in the list."
   ]
  },
  {
   "cell_type": "code",
   "execution_count": 37,
   "id": "37440d08",
   "metadata": {},
   "outputs": [
    {
     "data": {
      "text/plain": [
       "['bangalore',\n",
       " 'hyderabad',\n",
       " 'newyork',\n",
       " 'shangai',\n",
       " 'dhubhai',\n",
       " 'dallas',\n",
       " 'dallas',\n",
       " 'dallas',\n",
       " 'austin',\n",
       " 'Chicago',\n",
       " 'Beijing',\n",
       " 'Berlin',\n",
       " 'London']"
      ]
     },
     "execution_count": 37,
     "metadata": {},
     "output_type": "execute_result"
    }
   ],
   "source": [
    "cities"
   ]
  },
  {
   "cell_type": "code",
   "execution_count": 38,
   "id": "2ffa37e7",
   "metadata": {},
   "outputs": [
    {
     "data": {
      "text/plain": [
       "['London',\n",
       " 'Berlin',\n",
       " 'Beijing',\n",
       " 'Chicago',\n",
       " 'austin',\n",
       " 'dallas',\n",
       " 'dallas',\n",
       " 'dallas',\n",
       " 'dhubhai',\n",
       " 'shangai',\n",
       " 'newyork',\n",
       " 'hyderabad',\n",
       " 'bangalore']"
      ]
     },
     "execution_count": 38,
     "metadata": {},
     "output_type": "execute_result"
    }
   ],
   "source": [
    "cities[::-1]  # reverse a string --- get the list in backward order"
   ]
  },
  {
   "cell_type": "markdown",
   "id": "92d149c2",
   "metadata": {},
   "source": [
    "## Tuple"
   ]
  },
  {
   "cell_type": "code",
   "execution_count": null,
   "id": "4d08a5c2",
   "metadata": {},
   "outputs": [],
   "source": [
    "# immutable, ordered, heterogeneous collection of data, can be used as a key for dictionary.\n",
    "# supports positive and negative indexing.\n",
    "# positive indexes [0,1,2,3,4,5,......]\n",
    "# negative indexes [......-4,-3,-2,-1]"
   ]
  },
  {
   "cell_type": "code",
   "execution_count": null,
   "id": "48a6adf5",
   "metadata": {},
   "outputs": [],
   "source": [
    "numbers = (1,2,3,4)"
   ]
  },
  {
   "cell_type": "markdown",
   "id": "79a4314e",
   "metadata": {},
   "source": [
    "## Dictionary"
   ]
  },
  {
   "cell_type": "code",
   "execution_count": 42,
   "id": "c8067ba0",
   "metadata": {},
   "outputs": [
    {
     "data": {
      "text/plain": [
       "dict"
      ]
     },
     "execution_count": 42,
     "metadata": {},
     "output_type": "execute_result"
    }
   ],
   "source": [
    "# a collection of key value pair, which is separate by comma(,).\n",
    "# key and value are separated by colon(:)\n",
    "# an unordered collection of data\n",
    "# the keys are immutable\n",
    "\n",
    "employee_details = {'name':'krystal',\n",
    "                    'age':20,\n",
    "                    'salary':4000,\n",
    "                    'phone_number':123456789}\n",
    "type(employee_details)"
   ]
  },
  {
   "cell_type": "code",
   "execution_count": 43,
   "id": "49c0e5a5",
   "metadata": {},
   "outputs": [
    {
     "data": {
      "text/plain": [
       "123456789"
      ]
     },
     "execution_count": 43,
     "metadata": {},
     "output_type": "execute_result"
    }
   ],
   "source": [
    "employee_details['phone_number']"
   ]
  },
  {
   "cell_type": "code",
   "execution_count": 44,
   "id": "be39d983",
   "metadata": {},
   "outputs": [
    {
     "data": {
      "text/plain": [
       "20"
      ]
     },
     "execution_count": 44,
     "metadata": {},
     "output_type": "execute_result"
    }
   ],
   "source": [
    "employee_details['age']"
   ]
  },
  {
   "cell_type": "code",
   "execution_count": 47,
   "id": "6e4386d6",
   "metadata": {},
   "outputs": [
    {
     "data": {
      "text/plain": [
       "dict_keys(['name', 'age', 'salary', 'phone_number'])"
      ]
     },
     "execution_count": 47,
     "metadata": {},
     "output_type": "execute_result"
    }
   ],
   "source": [
    "employee_details.keys()"
   ]
  },
  {
   "cell_type": "code",
   "execution_count": 48,
   "id": "bed50cb4",
   "metadata": {},
   "outputs": [
    {
     "data": {
      "text/plain": [
       "dict_values(['krystal', 20, 4000, 123456789])"
      ]
     },
     "execution_count": 48,
     "metadata": {},
     "output_type": "execute_result"
    }
   ],
   "source": [
    "employee_details.values()"
   ]
  },
  {
   "cell_type": "code",
   "execution_count": 49,
   "id": "ef7a9ee1",
   "metadata": {},
   "outputs": [
    {
     "data": {
      "text/plain": [
       "['krystal', 20, 4000, 123456789]"
      ]
     },
     "execution_count": 49,
     "metadata": {},
     "output_type": "execute_result"
    }
   ],
   "source": [
    "list(employee_details.values())"
   ]
  },
  {
   "cell_type": "code",
   "execution_count": null,
   "id": "f86f8e0a",
   "metadata": {},
   "outputs": [],
   "source": []
  },
  {
   "cell_type": "code",
   "execution_count": null,
   "id": "a463e1a2",
   "metadata": {},
   "outputs": [],
   "source": []
  },
  {
   "cell_type": "code",
   "execution_count": null,
   "id": "8cbf1c98",
   "metadata": {},
   "outputs": [],
   "source": []
  },
  {
   "cell_type": "code",
   "execution_count": 1,
   "id": "f9e53b0b",
   "metadata": {},
   "outputs": [],
   "source": [
    "cities2 = ['bangalore', 'hyderabad', 'newyork', 'shangai', 'dhubhai']"
   ]
  },
  {
   "cell_type": "code",
   "execution_count": 3,
   "id": "7f93e0cf",
   "metadata": {},
   "outputs": [
    {
     "ename": "NameError",
     "evalue": "name 'capitalize' is not defined",
     "output_type": "error",
     "traceback": [
      "\u001b[1;31m---------------------------------------------------------------------------\u001b[0m",
      "\u001b[1;31mNameError\u001b[0m                                 Traceback (most recent call last)",
      "\u001b[1;32m<ipython-input-3-dd9d140e6e19>\u001b[0m in \u001b[0;36m<module>\u001b[1;34m\u001b[0m\n\u001b[1;32m----> 1\u001b[1;33m \u001b[0mcapitalize\u001b[0m\u001b[1;33m(\u001b[0m\u001b[0mcities2\u001b[0m\u001b[1;33m)\u001b[0m\u001b[1;33m\u001b[0m\u001b[1;33m\u001b[0m\u001b[0m\n\u001b[0m",
      "\u001b[1;31mNameError\u001b[0m: name 'capitalize' is not defined"
     ]
    }
   ],
   "source": [
    "cities2.capita"
   ]
  },
  {
   "cell_type": "code",
   "execution_count": null,
   "id": "662dfe86",
   "metadata": {},
   "outputs": [],
   "source": []
  }
 ],
 "metadata": {
  "kernelspec": {
   "display_name": "Python 3",
   "language": "python",
   "name": "python3"
  },
  "language_info": {
   "codemirror_mode": {
    "name": "ipython",
    "version": 3
   },
   "file_extension": ".py",
   "mimetype": "text/x-python",
   "name": "python",
   "nbconvert_exporter": "python",
   "pygments_lexer": "ipython3",
   "version": "3.8.8"
  }
 },
 "nbformat": 4,
 "nbformat_minor": 5
}

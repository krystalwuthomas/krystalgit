{
 "cells": [
  {
   "cell_type": "markdown",
   "id": "009011d2",
   "metadata": {},
   "source": [
    "# Basics"
   ]
  },
  {
   "cell_type": "code",
   "execution_count": 5,
   "id": "864f71d1",
   "metadata": {},
   "outputs": [
    {
     "name": "stdout",
     "output_type": "stream",
     "text": [
      "a\n",
      "a\n"
     ]
    }
   ],
   "source": [
    "# check if character is available in string\n",
    "for character in 'dallas':\n",
    "    if character == 'a':\n",
    "        print(character)"
   ]
  },
  {
   "cell_type": "code",
   "execution_count": 6,
   "id": "f3e9bc4f",
   "metadata": {},
   "outputs": [
    {
     "data": {
      "text/plain": [
       "True"
      ]
     },
     "execution_count": 6,
     "metadata": {},
     "output_type": "execute_result"
    }
   ],
   "source": [
    "'a' in 'dallas'"
   ]
  },
  {
   "cell_type": "code",
   "execution_count": 11,
   "id": "957d175a",
   "metadata": {},
   "outputs": [
    {
     "data": {
      "text/plain": [
       "'alla'"
      ]
     },
     "execution_count": 11,
     "metadata": {},
     "output_type": "execute_result"
    }
   ],
   "source": [
    "# get letters from a string\n",
    "'dallas'[1:5]   # index 5 is excluded"
   ]
  },
  {
   "cell_type": "code",
   "execution_count": 12,
   "id": "ddbb2938",
   "metadata": {},
   "outputs": [
    {
     "data": {
      "text/plain": [
       "'alla'"
      ]
     },
     "execution_count": 12,
     "metadata": {},
     "output_type": "execute_result"
    }
   ],
   "source": [
    "'dallas'[1:-1]"
   ]
  },
  {
   "cell_type": "markdown",
   "id": "07d9a036",
   "metadata": {},
   "source": [
    "# List"
   ]
  },
  {
   "cell_type": "code",
   "execution_count": 17,
   "id": "7a92c7dd",
   "metadata": {},
   "outputs": [
    {
     "data": {
      "text/plain": [
       "['hyderabad', 'newyork', 'shangai', 'dhubhai']"
      ]
     },
     "execution_count": 17,
     "metadata": {},
     "output_type": "execute_result"
    }
   ],
   "source": [
    "cities = ['bangalore', 'hyderabad', 'newyork', 'shangai', 'dhubhai']\n",
    "cities.remove('bangalore')   # remove() is used for string\n",
    "cities"
   ]
  },
  {
   "cell_type": "code",
   "execution_count": 19,
   "id": "e8715436",
   "metadata": {},
   "outputs": [
    {
     "data": {
      "text/plain": [
       "[1, 2, 3, 5]"
      ]
     },
     "execution_count": 19,
     "metadata": {},
     "output_type": "execute_result"
    }
   ],
   "source": [
    "list = [1,2,3,4,5]\n",
    "list.pop(3)     # pop() is used for integer\n",
    "list"
   ]
  },
  {
   "cell_type": "code",
   "execution_count": 20,
   "id": "c2960a48",
   "metadata": {},
   "outputs": [
    {
     "data": {
      "text/plain": [
       "['beijing', 'hyderabad', 'newyork', 'shangai', 'dhubhai']"
      ]
     },
     "execution_count": 20,
     "metadata": {},
     "output_type": "execute_result"
    }
   ],
   "source": [
    "# how to insert an item to a specific position in a list\n",
    "cities.insert(0, 'beijing')\n",
    "cities"
   ]
  },
  {
   "cell_type": "code",
   "execution_count": 27,
   "id": "126d73ee",
   "metadata": {},
   "outputs": [
    {
     "data": {
      "text/plain": [
       "'dhubhai'"
      ]
     },
     "execution_count": 27,
     "metadata": {},
     "output_type": "execute_result"
    }
   ],
   "source": [
    "# how to delete the last element of a list\n",
    "cities = ['bangalore', 'hyderabad', 'newyork', 'shangai', 'dhubhai']\n",
    "cities.pop()   # .pop() is used to delete the last element from a list"
   ]
  },
  {
   "cell_type": "code",
   "execution_count": 28,
   "id": "92460662",
   "metadata": {},
   "outputs": [
    {
     "data": {
      "text/plain": [
       "['bangalore', 'hyderabad', 'newyork', 'shangai']"
      ]
     },
     "execution_count": 28,
     "metadata": {},
     "output_type": "execute_result"
    }
   ],
   "source": [
    "cities"
   ]
  },
  {
   "cell_type": "code",
   "execution_count": 29,
   "id": "90cc7977",
   "metadata": {},
   "outputs": [
    {
     "data": {
      "text/plain": [
       "['bangalore', 'hyderabad', 'newyork', 'shangai', 'london', 'paris']"
      ]
     },
     "execution_count": 29,
     "metadata": {},
     "output_type": "execute_result"
    }
   ],
   "source": [
    "cities1 = ['london','paris']\n",
    "cities + cities1"
   ]
  },
  {
   "cell_type": "code",
   "execution_count": 35,
   "id": "9b455990",
   "metadata": {},
   "outputs": [
    {
     "data": {
      "text/plain": [
       "['bangalore', 'hyderabad', 'newyork', 'shangai']"
      ]
     },
     "execution_count": 35,
     "metadata": {},
     "output_type": "execute_result"
    }
   ],
   "source": [
    "# how to order the items in a list\n",
    "cities.sort()   # ascending order by default\n",
    "cities    "
   ]
  },
  {
   "cell_type": "code",
   "execution_count": 36,
   "id": "99017b06",
   "metadata": {},
   "outputs": [
    {
     "data": {
      "text/plain": [
       "['shangai', 'newyork', 'hyderabad', 'bangalore']"
      ]
     },
     "execution_count": 36,
     "metadata": {},
     "output_type": "execute_result"
    }
   ],
   "source": [
    "cities.sort(reverse = True)  # descending order\n",
    "cities"
   ]
  },
  {
   "cell_type": "markdown",
   "id": "8ae51f2f",
   "metadata": {},
   "source": [
    "## Assignment: read about copy and deepcopy"
   ]
  },
  {
   "cell_type": "markdown",
   "id": "ea6f83f4",
   "metadata": {},
   "source": [
    "# Tuples"
   ]
  },
  {
   "cell_type": "code",
   "execution_count": 80,
   "id": "6102b8f6",
   "metadata": {},
   "outputs": [],
   "source": [
    "# How to concatenate 2 tuples?\n",
    "tuple1 = ('krystal', 'jason', 'chance', 'lily')\n",
    "tuple2 = ('daisy',)\n",
    "tuple1 += tuple2"
   ]
  },
  {
   "cell_type": "code",
   "execution_count": 81,
   "id": "82e569ca",
   "metadata": {},
   "outputs": [
    {
     "data": {
      "text/plain": [
       "('krystal', 'jason', 'chance', 'lily', 'daisy')"
      ]
     },
     "execution_count": 81,
     "metadata": {},
     "output_type": "execute_result"
    }
   ],
   "source": [
    "tuple1"
   ]
  },
  {
   "cell_type": "code",
   "execution_count": 44,
   "id": "bfbfcdde",
   "metadata": {},
   "outputs": [
    {
     "data": {
      "text/plain": [
       "(1, 2, 3, 4, 5, 6, 7)"
      ]
     },
     "execution_count": 44,
     "metadata": {},
     "output_type": "execute_result"
    }
   ],
   "source": [
    "tuple3 = (1,2,3,4)\n",
    "tuple4= (5,6,7)\n",
    "tuple3 + tuple4"
   ]
  },
  {
   "cell_type": "code",
   "execution_count": 89,
   "id": "60ab14da",
   "metadata": {},
   "outputs": [],
   "source": [
    "tuple1 = ('krystal', 'jason', 'chance', 'lily')\n",
    "(one, two, three, four) = tuple1 "
   ]
  },
  {
   "cell_type": "code",
   "execution_count": 90,
   "id": "66b88a94",
   "metadata": {},
   "outputs": [
    {
     "data": {
      "text/plain": [
       "'krystal'"
      ]
     },
     "execution_count": 90,
     "metadata": {},
     "output_type": "execute_result"
    }
   ],
   "source": [
    "one"
   ]
  },
  {
   "cell_type": "markdown",
   "id": "3e5c71e2",
   "metadata": {},
   "source": [
    "# Set: unordered, store unique values, unchangeable, not follow indexing"
   ]
  },
  {
   "cell_type": "code",
   "execution_count": 57,
   "id": "d3e83fa0",
   "metadata": {},
   "outputs": [],
   "source": [
    "cities = {'shanghai', 'beijing', 'changsha', 'wuhan'}"
   ]
  },
  {
   "cell_type": "code",
   "execution_count": 58,
   "id": "1bb1335c",
   "metadata": {},
   "outputs": [
    {
     "data": {
      "text/plain": [
       "set"
      ]
     },
     "execution_count": 58,
     "metadata": {},
     "output_type": "execute_result"
    }
   ],
   "source": [
    "type(cities)"
   ]
  },
  {
   "cell_type": "code",
   "execution_count": 59,
   "id": "a6f5af07",
   "metadata": {},
   "outputs": [
    {
     "data": {
      "text/plain": [
       "{'beijing', 'changsha', 'shanghai', 'wuhan'}"
      ]
     },
     "execution_count": 59,
     "metadata": {},
     "output_type": "execute_result"
    }
   ],
   "source": [
    "cities_new = {'shanghai', 'beijing', 'changsha', 'wuhan', 'wuhan','wuhan'}\n",
    "cities_new   # set has unique values, so 'wuhan' won't show up multiple times in the output"
   ]
  },
  {
   "cell_type": "code",
   "execution_count": 60,
   "id": "512b0e84",
   "metadata": {},
   "outputs": [
    {
     "data": {
      "text/plain": [
       "{'Shanghai', 'beijing', 'changsha', 'shanghai', 'wuhan'}"
      ]
     },
     "execution_count": 60,
     "metadata": {},
     "output_type": "execute_result"
    }
   ],
   "source": [
    "cities = {'shanghai', 'beijing', 'changsha', 'wuhan', 'Shanghai'}\n",
    "cities  # 'shanghai' and 'Shanghai'大小写不同，所以unique可以show up twice"
   ]
  },
  {
   "cell_type": "code",
   "execution_count": 62,
   "id": "467ce6c2",
   "metadata": {},
   "outputs": [
    {
     "name": "stdout",
     "output_type": "stream",
     "text": [
      "Shanghai\n",
      "changsha\n",
      "beijing\n",
      "shanghai\n",
      "wuhan\n"
     ]
    }
   ],
   "source": [
    "for i in cities:\n",
    "    print(i)"
   ]
  },
  {
   "cell_type": "code",
   "execution_count": 64,
   "id": "a30cf1a5",
   "metadata": {},
   "outputs": [
    {
     "data": {
      "text/plain": [
       "{'Shanghai', 'beijing', 'changsha', 'harbin', 'shanghai', 'wuhan'}"
      ]
     },
     "execution_count": 64,
     "metadata": {},
     "output_type": "execute_result"
    }
   ],
   "source": [
    "cities.add('harbin')\n",
    "cities"
   ]
  },
  {
   "cell_type": "code",
   "execution_count": 69,
   "id": "fed2d0bd",
   "metadata": {},
   "outputs": [
    {
     "data": {
      "text/plain": [
       "{'Shanghai', 'changsha', 'shanghai'}"
      ]
     },
     "execution_count": 69,
     "metadata": {},
     "output_type": "execute_result"
    }
   ],
   "source": [
    "cities.remove('beijing')\n",
    "cities"
   ]
  },
  {
   "cell_type": "code",
   "execution_count": 70,
   "id": "9b7e3c86",
   "metadata": {},
   "outputs": [
    {
     "name": "stdout",
     "output_type": "stream",
     "text": [
      "{'shanghai'}\n"
     ]
    }
   ],
   "source": [
    "cities1 = {'shanghai', 'beijing', 'changsha', 'wuhan'}\n",
    "cities2 = {'shanghai', 'harbin', 'jinan', 'tianjin'}\n",
    "intersection = cities1.intersection(cities2)    # set1.intersection(set2)可以找到两个set共有的elements\n",
    "print(intersection)    "
   ]
  },
  {
   "cell_type": "code",
   "execution_count": 74,
   "id": "27599754",
   "metadata": {},
   "outputs": [
    {
     "data": {
      "text/plain": [
       "{'beijing', 'changsha', 'harbin', 'jinan', 'shanghai', 'tianjin', 'wuhan'}"
      ]
     },
     "execution_count": 74,
     "metadata": {},
     "output_type": "execute_result"
    }
   ],
   "source": [
    "cities_combined = cities1.union(cities2)    # set1.union(set2)可以join两个set\n",
    "cities_combined"
   ]
  },
  {
   "cell_type": "markdown",
   "id": "20c1f21b",
   "metadata": {},
   "source": [
    "## Assignment： list all methods of set with an example"
   ]
  },
  {
   "cell_type": "markdown",
   "id": "9c0ff945",
   "metadata": {},
   "source": [
    "# comprehensions \n",
    "-- We can create new sequences using a given python sequence. This is called comprehension. It basically a way of writing a concise code block to generate a sequence which can be a list, dictionary, set or a generator by using another sequence."
   ]
  },
  {
   "cell_type": "code",
   "execution_count": 76,
   "id": "d69c8fc6",
   "metadata": {},
   "outputs": [
    {
     "data": {
      "text/plain": [
       "['CHANGSHA', 'BEIJING', 'WUHAN', 'SHANGHAI']"
      ]
     },
     "execution_count": 76,
     "metadata": {},
     "output_type": "execute_result"
    }
   ],
   "source": [
    "cities = {'shanghai', 'beijing', 'changsha', 'wuhan'}\n",
    "cities_caps = [x.upper() for x in cities]\n",
    "cities_caps"
   ]
  },
  {
   "cell_type": "code",
   "execution_count": 77,
   "id": "bb88a963",
   "metadata": {},
   "outputs": [
    {
     "data": {
      "text/plain": [
       "['BEIJING']"
      ]
     },
     "execution_count": 77,
     "metadata": {},
     "output_type": "execute_result"
    }
   ],
   "source": [
    "cities = {'shanghai', 'beijing', 'changsha', 'wuhan'}\n",
    "cities_caps = [x.upper() for x in cities if x.startswith('b')]   # if tells only in the condition, should you uppercase\n",
    "cities_caps"
   ]
  },
  {
   "cell_type": "code",
   "execution_count": 78,
   "id": "bcbbae1e",
   "metadata": {},
   "outputs": [
    {
     "data": {
      "text/plain": [
       "['WUHAN']"
      ]
     },
     "execution_count": 78,
     "metadata": {},
     "output_type": "execute_result"
    }
   ],
   "source": [
    "cities = {'shanghai', 'beijing', 'changsha', 'wuhan'}\n",
    "cities_caps = [x.upper() for x in cities if x.endswith('n')]   # if tells only in the condition, should you uppercase\n",
    "cities_caps"
   ]
  },
  {
   "cell_type": "markdown",
   "id": "23c88db7",
   "metadata": {},
   "source": [
    "# Next class:\n",
    "functions\n",
    "file operations\n",
    "iterator, generator and decorator"
   ]
  }
 ],
 "metadata": {
  "kernelspec": {
   "display_name": "Python 3",
   "language": "python",
   "name": "python3"
  },
  "language_info": {
   "codemirror_mode": {
    "name": "ipython",
    "version": 3
   },
   "file_extension": ".py",
   "mimetype": "text/x-python",
   "name": "python",
   "nbconvert_exporter": "python",
   "pygments_lexer": "ipython3",
   "version": "3.8.8"
  }
 },
 "nbformat": 4,
 "nbformat_minor": 5
}
